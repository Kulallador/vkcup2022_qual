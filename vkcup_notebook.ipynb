{
  "cells": [
    {
      "cell_type": "markdown",
      "metadata": {
        "id": "PgmXFcgCs2cJ"
      },
      "source": [
        "### Входные данные\n"
      ]
    },
    {
      "cell_type": "markdown",
      "metadata": {
        "id": "ikNHWxS-7pix"
      },
      "source": [
        "В качестве данных выступает набор данных с квалфикационного тура VkCup. Данные содержат статьи различных сообществ с разной тематикой. Цель заключается в том, чтобы определить тематику каждого сообщества по её статьям. \n",
        "\n",
        "Тренировочный набор данных состоит из трех столбцов:\n",
        "1. oid - уникальный ID сообщества\n",
        "2. category - категория сообщества\n",
        "3. text - текст статьи\n"
      ]
    },
    {
      "cell_type": "code",
      "execution_count": 3,
      "metadata": {
        "colab": {
          "base_uri": "https://localhost:8080/"
        },
        "id": "T9IffBQX9KEI",
        "outputId": "9965bf03-8c44-437b-a4c9-a1f44974a817"
      },
      "outputs": [
        {
          "name": "stderr",
          "output_type": "stream",
          "text": [
            "[nltk_data] Downloading package stopwords to /root/nltk_data...\n",
            "[nltk_data]   Unzipping corpora/stopwords.zip.\n"
          ]
        },
        {
          "data": {
            "text/plain": [
              "True"
            ]
          },
          "execution_count": 3,
          "metadata": {},
          "output_type": "execute_result"
        }
      ],
      "source": [
        "from sklearn.metrics import accuracy_score, precision_score, \\\n",
        " recall_score, f1_score, classification_report\n",
        "from sklearn.model_selection import train_test_split\n",
        "from nltk.tokenize import WordPunctTokenizer\n",
        "from pymystem3 import Mystem\n",
        "import pymorphy2\n",
        "\n",
        "import pandas as pd\n",
        "import numpy as np\n",
        "import random\n",
        "import re\n",
        "import nltk\n",
        "import string\n",
        "\n",
        "nltk.download(\"stopwords\")"
      ]
    },
    {
      "cell_type": "code",
      "execution_count": 4,
      "metadata": {
        "id": "RQ991z5bEJ7t"
      },
      "outputs": [],
      "source": [
        "SEED = 42\n",
        "np.random.seed(SEED)\n",
        "random.seed(SEED)"
      ]
    },
    {
      "cell_type": "code",
      "execution_count": 5,
      "metadata": {
        "id": "dilko9DaPNU3"
      },
      "outputs": [],
      "source": [
        "tokenizer = WordPunctTokenizer()\n",
        "lemmatizer = pymorphy2.MorphAnalyzer()\n",
        "stopwords = nltk.corpus.stopwords.words(\"russian\")"
      ]
    },
    {
      "cell_type": "code",
      "execution_count": 6,
      "metadata": {
        "id": "WeZD5XwTw0vY"
      },
      "outputs": [],
      "source": [
        "train_path = \"path/to/train.csv\"\n",
        "test_path = \"path/to/test.csv\""
      ]
    },
    {
      "cell_type": "markdown",
      "metadata": {
        "id": "aqmklnZVEjph"
      },
      "source": [
        "#### Загрузка и предобработка данных"
      ]
    },
    {
      "cell_type": "code",
      "execution_count": 7,
      "metadata": {
        "id": "2LkkJtrCEL2-"
      },
      "outputs": [],
      "source": [
        "df = pd.read_csv(train_path)\n",
        "df_test = pd.read_csv(test_path)"
      ]
    },
    {
      "cell_type": "code",
      "execution_count": 8,
      "metadata": {
        "id": "Io8dmM8BEOAV"
      },
      "outputs": [],
      "source": [
        "df[\"category\"] = df[\"category\"].astype(\"category\")\n",
        "df[\"category_code\"] = df[\"category\"].cat.codes\n",
        "idx2class = {i:class_name for i, class_name in enumerate(df[\"category\"].cat.categories)}\n",
        "\n",
        "df_oid = df.pivot_table(values=\"category_code\", index=[\"oid\"]).reset_index()"
      ]
    },
    {
      "cell_type": "markdown",
      "metadata": {
        "id": "sl0QMCiWFtw_"
      },
      "source": [
        "Перед подачей в модель статьи нужно предобработать, для этого в начале удалим все стоп слова, знаки пунктуации, цифры и слова с длиной меньшей, чем 2."
      ]
    },
    {
      "cell_type": "code",
      "execution_count": 9,
      "metadata": {
        "id": "ek_29RNVEVKK"
      },
      "outputs": [],
      "source": [
        "def preprocess_sents(sent, tokenizer=tokenizer):\n",
        "    tokens = []\n",
        "    sent_clean = re.sub(\"tokenoid|token|\\d\", \"\", sent).strip()\n",
        "    for word in tokenizer.tokenize(sent_clean.lower()):\n",
        "        if (word not in stopwords) and (word not in string.punctuation) and len(word) > 2:\n",
        "            tokens.append(word)\n",
        "\n",
        "    return \" \".join(tokens)"
      ]
    },
    {
      "cell_type": "code",
      "execution_count": 10,
      "metadata": {
        "id": "bwNoejWVEWsp"
      },
      "outputs": [],
      "source": [
        "df[\"clean_text\"] = df[\"text\"].apply(preprocess_sents)\n",
        "df_test[\"clean_text\"] = df_test[\"text\"].apply(preprocess_sents)"
      ]
    },
    {
      "cell_type": "markdown",
      "metadata": {
        "id": "zZOt3wnHF-br"
      },
      "source": [
        "Далее произведем лемматизацию слов с помощью PyMystem3"
      ]
    },
    {
      "cell_type": "code",
      "execution_count": 11,
      "metadata": {
        "id": "k1ezS7fKEZ3P"
      },
      "outputs": [],
      "source": [
        "def pymorphy_lemmatize(sent, lemmatizer=lemmatizer):\n",
        "    lemmatized_tokens = []\n",
        "    for token in tokenizer.tokenize(sent):\n",
        "        info = lemmatizer.parse(token)[0]\n",
        "        lemmatized_tokens.append(info.normal_form)\n",
        "    return \" \".join(lemmatized_tokens)\n",
        "\n",
        "df[\"lemmatized_text\"] = df[\"clean_text\"].apply(pymorphy_lemmatize)\n",
        "df_test[\"lemmatized_text\"] = df_test[\"clean_text\"].apply(pymorphy_lemmatize)"
      ]
    },
    {
      "cell_type": "markdown",
      "metadata": {
        "id": "71a77sr1FSPf"
      },
      "source": [
        "Разделяем выборку на train и val по oid в соотношении 80:20"
      ]
    },
    {
      "cell_type": "code",
      "execution_count": 12,
      "metadata": {
        "id": "oxQr1WBmEiaa"
      },
      "outputs": [],
      "source": [
        "oid_train, oid_val, oid_labels_train, oid_labels_val = train_test_split(df_oid[\"oid\"], \n",
        "                                                                        df_oid[\"category_code\"], \n",
        "                                                                        test_size=0.2, \n",
        "                                                                        random_state=SEED)"
      ]
    },
    {
      "cell_type": "code",
      "execution_count": 13,
      "metadata": {
        "id": "pDYx1lMpFcQW"
      },
      "outputs": [],
      "source": [
        "def get_data_by_oids(df, df_oids):\n",
        "    sents = []\n",
        "    labels = []\n",
        "    oids = []\n",
        "    for oid in df_oids:\n",
        "        label = df[df[\"oid\"] == oid][\"category_code\"].iloc[0]\n",
        "        for sent in df[df[\"oid\"] == oid][\"lemmatized_text\"]:\n",
        "            sents.append(sent)\n",
        "            labels.append(label)\n",
        "            oids.append(oid)\n",
        "    return sents, labels, oids"
      ]
    },
    {
      "cell_type": "code",
      "execution_count": 14,
      "metadata": {
        "id": "BKX1cAe1FdVP"
      },
      "outputs": [],
      "source": [
        "train_sents, train_labels, train_oids = get_data_by_oids(df, oid_train)\n",
        "val_sents, val_labels, val_oids = get_data_by_oids(df, oid_val)\n",
        "\n",
        "all_train_sents = df[\"lemmatized_text\"]\n",
        "all_train_labels = df[\"category_code\"]\n",
        "all_train_oids = df[\"oid\"] \n",
        "\n",
        "test_sents = df_test[\"lemmatized_text\"]\n",
        "test_oids = df_test[\"oid\"]"
      ]
    },
    {
      "cell_type": "markdown",
      "metadata": {
        "id": "Iz5dNWK6GwDL"
      },
      "source": [
        "Определяем функцию для вывода метрик"
      ]
    },
    {
      "cell_type": "code",
      "execution_count": 15,
      "metadata": {
        "id": "6AOUuXqxGFPj"
      },
      "outputs": [],
      "source": [
        "def print_metrics(y_test, y_pred):\n",
        "    print(\"Accuracy: \", accuracy_score(y_test, y_pred))\n",
        "    print(\"Macro precision: \", precision_score(y_test, y_pred, average=\"macro\"))\n",
        "    print(\"Micro precision: \", precision_score(y_test, y_pred, average=\"micro\"))\n",
        "    print(\"Macro recall: \", recall_score(y_test, y_pred, average=\"macro\"))\n",
        "    print(\"Micro recall: \", recall_score(y_test, y_pred, average=\"micro\"))\n",
        "    print(\"Macro f1-score: \", f1_score(y_test, y_pred, average=\"macro\"))\n",
        "    print(\"Micro f1-score: \", f1_score(y_test, y_pred, average=\"micro\"))\n"
      ]
    },
    {
      "cell_type": "markdown",
      "metadata": {
        "id": "OXwclByPFe4I"
      },
      "source": [
        "#### Классификация с помощью Bag of words и TF-IDF"
      ]
    },
    {
      "cell_type": "markdown",
      "metadata": {
        "id": "kULbzHdPFj6e"
      },
      "source": [
        "Для классификации по признакам из BOW и TF-IDF будем использовать модель случайного леса"
      ]
    },
    {
      "cell_type": "code",
      "execution_count": 16,
      "metadata": {
        "id": "Nuuo19JhFP4m"
      },
      "outputs": [],
      "source": [
        "from sklearn.feature_extraction.text import TfidfVectorizer, CountVectorizer\n",
        "from sklearn.ensemble import RandomForestClassifier\n",
        "from sklearn.linear_model import LogisticRegressionCV"
      ]
    },
    {
      "cell_type": "markdown",
      "metadata": {
        "id": "DneP9tHvGzy9"
      },
      "source": [
        "Bag of words - способ представления текста в виде вектора, состоящих из количества вхождения каждого слова в текст."
      ]
    },
    {
      "cell_type": "code",
      "execution_count": 17,
      "metadata": {
        "colab": {
          "base_uri": "https://localhost:8080/"
        },
        "id": "jQ7jhoZHFzVN",
        "outputId": "2b568ba1-351b-401e-c1b3-3d88f3b29086"
      },
      "outputs": [
        {
          "name": "stdout",
          "output_type": "stream",
          "text": [
            "(30990, 61863)\n"
          ]
        }
      ],
      "source": [
        "count_vectorizer = CountVectorizer()\n",
        "train_vectorize = count_vectorizer.fit_transform(train_sents)\n",
        "val_vectorize = count_vectorizer.transform(val_sents)\n",
        "print(train_vectorize.shape)"
      ]
    },
    {
      "cell_type": "code",
      "execution_count": 18,
      "metadata": {
        "colab": {
          "base_uri": "https://localhost:8080/"
        },
        "id": "b91rDWZlF7vc",
        "outputId": "366d8665-c40f-4edb-ce28-18200a7b6dc7"
      },
      "outputs": [
        {
          "name": "stdout",
          "output_type": "stream",
          "text": [
            "Accuracy:  0.8140645161290323\n",
            "Macro precision:  0.8189358640592937\n",
            "Micro precision:  0.8140645161290323\n",
            "Macro recall:  0.8176135705771427\n",
            "Micro recall:  0.8140645161290323\n",
            "Macro f1-score:  0.8173082422264675\n",
            "Micro f1-score:  0.8140645161290323\n"
          ]
        }
      ],
      "source": [
        "rf = RandomForestClassifier(random_state=SEED, bootstrap=False)\n",
        "rf.fit(train_vectorize, train_labels)\n",
        "\n",
        "pred_rf_bow = rf.predict(val_vectorize)\n",
        "print_metrics(val_labels, pred_rf_bow)"
      ]
    },
    {
      "cell_type": "code",
      "execution_count": 19,
      "metadata": {
        "colab": {
          "base_uri": "https://localhost:8080/"
        },
        "id": "nWBs8BDa1Ue4",
        "outputId": "69f9b7e9-9445-4d02-95f2-0a87dd240ae7"
      },
      "outputs": [
        {
          "name": "stdout",
          "output_type": "stream",
          "text": [
            "Accuracy:  0.8238709677419355\n",
            "Macro precision:  0.8319634702770892\n",
            "Micro precision:  0.8238709677419355\n",
            "Macro recall:  0.8275898670979198\n",
            "Micro recall:  0.8238709677419355\n",
            "Macro f1-score:  0.828181436190573\n",
            "Micro f1-score:  0.8238709677419355\n"
          ]
        }
      ],
      "source": [
        "logreg = LogisticRegressionCV(random_state=SEED, multi_class=\"multinomial\", solver=\"newton-cg\")\n",
        "logreg.fit(train_vectorize, train_labels)\n",
        "\n",
        "pred_logreg_bow = logreg.predict(val_vectorize)\n",
        "print_metrics(val_labels, pred_logreg_bow)"
      ]
    },
    {
      "cell_type": "markdown",
      "metadata": {
        "id": "1MAi83Cvu2FB"
      },
      "source": [
        "TF-IDF - ещё один метод для векторизации предложения. Проблема BOW в том, что он не учитвает полезность слова. TF-IDF решает эту проблему. Данный метод считает для каждого слова частоту вхождения слова $w$ в документ и умножает на обратную частоту вхождения ($log(\\frac{количество \\space документов}{количество \\space документов, \\space со \\space  словом \\space w })$). Таким образом, если слово часто встрачется в одном документе и практически не встречается в остальных, то такое слово будет иметь большее значение, чем, например, слово, которое встречается часто и в этом документе, и в остальных."
      ]
    },
    {
      "cell_type": "code",
      "execution_count": 20,
      "metadata": {
        "colab": {
          "base_uri": "https://localhost:8080/"
        },
        "id": "Dn8AnubfOQjb",
        "outputId": "77777aa4-9119-4456-d173-c4427dd2f75f"
      },
      "outputs": [
        {
          "name": "stdout",
          "output_type": "stream",
          "text": [
            "(30990, 61863)\n"
          ]
        }
      ],
      "source": [
        "tfidf_vectorizer = TfidfVectorizer()\n",
        "train_vectorize = tfidf_vectorizer.fit_transform(train_sents)\n",
        "val_vectorize = tfidf_vectorizer.transform(val_sents)\n",
        "print(train_vectorize.shape)"
      ]
    },
    {
      "cell_type": "code",
      "execution_count": 21,
      "metadata": {
        "colab": {
          "base_uri": "https://localhost:8080/"
        },
        "id": "oMAtbeanOZqk",
        "outputId": "16f2268f-9f8c-41f1-a2e3-c361b2f92e09"
      },
      "outputs": [
        {
          "name": "stdout",
          "output_type": "stream",
          "text": [
            "Accuracy:  0.8140645161290323\n",
            "Macro precision:  0.8202056371562398\n",
            "Micro precision:  0.8140645161290323\n",
            "Macro recall:  0.8177364122553967\n",
            "Micro recall:  0.8140645161290323\n",
            "Macro f1-score:  0.8178599896234205\n",
            "Micro f1-score:  0.8140645161290323\n"
          ]
        }
      ],
      "source": [
        "rf = RandomForestClassifier(random_state=SEED, bootstrap=False)\n",
        "rf.fit(train_vectorize, train_labels)\n",
        "\n",
        "pred_rf_tfidf = rf.predict(val_vectorize)\n",
        "print_metrics(val_labels, pred_rf_tfidf)"
      ]
    },
    {
      "cell_type": "markdown",
      "metadata": {
        "id": "Bd2eEQI1wtYk"
      },
      "source": [
        "В целом оба подхода к векторизации дали одинаковое качество классификации"
      ]
    },
    {
      "cell_type": "markdown",
      "metadata": {
        "id": "9Sv-l_ubX1AT"
      },
      "source": [
        "#### Navec"
      ]
    },
    {
      "cell_type": "markdown",
      "metadata": {
        "id": "RPxy2E6Kw1WD"
      },
      "source": [
        "Далее попробуем использовать предобученные эмбеддинги слов, для этого используем модель navec."
      ]
    },
    {
      "cell_type": "code",
      "execution_count": null,
      "metadata": {
        "id": "J4BDoxe2aGtH"
      },
      "outputs": [],
      "source": [
        "!wget https://storage.yandexcloud.net/natasha-navec/packs/navec_hudlit_v1_12B_500K_300d_100q.tar"
      ]
    },
    {
      "cell_type": "code",
      "execution_count": 25,
      "metadata": {
        "id": "xQM1x9A9X3HQ"
      },
      "outputs": [],
      "source": [
        "from navec import Navec"
      ]
    },
    {
      "cell_type": "code",
      "execution_count": 26,
      "metadata": {
        "id": "tIvYwYaWaN47"
      },
      "outputs": [],
      "source": [
        "navec = Navec.load(\"navec_hudlit_v1_12B_500K_300d_100q.tar\")"
      ]
    },
    {
      "cell_type": "markdown",
      "metadata": {
        "id": "TsqUh5KPxB7a"
      },
      "source": [
        "Будем вычислять вектор предложения как усредненную сумму векторов всех слов в предложении"
      ]
    },
    {
      "cell_type": "code",
      "execution_count": 27,
      "metadata": {
        "id": "kBvQbDcoaY0M"
      },
      "outputs": [],
      "source": [
        "def sentence2vector(sent, embedding, emb_dim, tokenizer=tokenizer):\n",
        "    tokens = tokenizer.tokenize(sent)\n",
        "    token_sum = np.zeros(emb_dim)\n",
        "    token_count = 0\n",
        "\n",
        "    for token in tokens:\n",
        "        if token in embedding.vocab:\n",
        "            token_sum += embedding[token]\n",
        "            token_count += 0\n",
        "\n",
        "    if token_count == 0:\n",
        "        return token_sum\n",
        "    \n",
        "    return token_sum / token_count"
      ]
    },
    {
      "cell_type": "code",
      "execution_count": 28,
      "metadata": {
        "id": "jvc9kIDbbqCG"
      },
      "outputs": [],
      "source": [
        "train_vectorize = [sentence2vector(sent, navec, 300) for sent in train_sents]\n",
        "val_vectorize = [sentence2vector(sent, navec, 300) for sent in val_sents] "
      ]
    },
    {
      "cell_type": "markdown",
      "metadata": {
        "id": "gUlRm96_xTxh"
      },
      "source": [
        "Обучим случайный лес на полученных векторах предложений"
      ]
    },
    {
      "cell_type": "code",
      "execution_count": 29,
      "metadata": {
        "colab": {
          "base_uri": "https://localhost:8080/"
        },
        "id": "TYlAH9lkz65l",
        "outputId": "ddbf35b0-fed2-4a2a-d21b-3dd988008396"
      },
      "outputs": [
        {
          "name": "stdout",
          "output_type": "stream",
          "text": [
            "Accuracy:  0.5678709677419355\n",
            "Macro precision:  0.571717549229285\n",
            "Micro precision:  0.5678709677419355\n",
            "Macro recall:  0.570062298060998\n",
            "Micro recall:  0.5678709677419355\n",
            "Macro f1-score:  0.5657887836295997\n",
            "Micro f1-score:  0.5678709677419355\n"
          ]
        }
      ],
      "source": [
        "rf = RandomForestClassifier(random_state=SEED)\n",
        "rf.fit(train_vectorize, train_labels)\n",
        "\n",
        "pred_rf_navec = rf.predict(val_vectorize)\n",
        "print_metrics(val_labels, pred_rf_navec)"
      ]
    },
    {
      "cell_type": "markdown",
      "metadata": {
        "id": "QcO39SKmxaQ3"
      },
      "source": [
        "Модель, обученная на таких представлениях предложений, дала значительно худшее качество, чем обученная на TF-IDF и BOW. Скорее всего это произошлол из-за того, что navec может не знать многие слова из набора данных, которые являются важными для понимания смысла. "
      ]
    },
    {
      "cell_type": "markdown",
      "metadata": {
        "id": "yOhDOdRX3azp"
      },
      "source": [
        "#### Word2Vec"
      ]
    },
    {
      "cell_type": "code",
      "execution_count": 30,
      "metadata": {
        "id": "ODbkVyJ33g8r"
      },
      "outputs": [],
      "source": [
        "from gensim.models import Word2Vec"
      ]
    },
    {
      "cell_type": "code",
      "execution_count": 31,
      "metadata": {
        "id": "FfhPbE4H6vEp"
      },
      "outputs": [],
      "source": [
        "tokenized_sents = [tokenizer.tokenize(sent) for sent in train_sents]"
      ]
    },
    {
      "cell_type": "code",
      "execution_count": 32,
      "metadata": {
        "id": "dEPlNECi5wD0"
      },
      "outputs": [],
      "source": [
        "w2v_embeddings = Word2Vec(tokenized_sents,\n",
        "                          size=300,\n",
        "                          min_count=1,\n",
        "                          window=15,).wv"
      ]
    },
    {
      "cell_type": "code",
      "execution_count": 33,
      "metadata": {
        "id": "wzInWGCC7epp"
      },
      "outputs": [],
      "source": [
        "train_vectorize = [sentence2vector(sent, w2v_embeddings, 300) for sent in train_sents]\n",
        "val_vectorize = [sentence2vector(sent, w2v_embeddings, 300) for sent in val_sents]"
      ]
    },
    {
      "cell_type": "code",
      "execution_count": 34,
      "metadata": {
        "colab": {
          "base_uri": "https://localhost:8080/"
        },
        "id": "3hzhjnhK8KYg",
        "outputId": "286b0e66-7263-418c-c56a-1a04f8113550"
      },
      "outputs": [
        {
          "name": "stdout",
          "output_type": "stream",
          "text": [
            "Accuracy:  0.6565161290322581\n",
            "Macro precision:  0.665963416591041\n",
            "Micro precision:  0.6565161290322581\n",
            "Macro recall:  0.6618989094742673\n",
            "Micro recall:  0.6565161290322581\n",
            "Macro f1-score:  0.6600183693441273\n",
            "Micro f1-score:  0.6565161290322581\n"
          ]
        }
      ],
      "source": [
        "rf = RandomForestClassifier(random_state=SEED, bootstrap=False)\n",
        "rf.fit(train_vectorize, train_labels)\n",
        "\n",
        "pred_rf_w2v = rf.predict(val_vectorize)\n",
        "print_metrics(val_labels, pred_rf_w2v)"
      ]
    },
    {
      "cell_type": "markdown",
      "metadata": {
        "id": "Bl1ysZKVOvGe"
      },
      "source": [
        "#### Классификация с помощью нейросетей"
      ]
    },
    {
      "cell_type": "markdown",
      "metadata": {
        "id": "JOvR4sjWyM_q"
      },
      "source": [
        "Попробуем произвести классификацию с помощью нейросетей"
      ]
    },
    {
      "cell_type": "code",
      "execution_count": 36,
      "metadata": {
        "id": "PyIH41b5O1aS"
      },
      "outputs": [],
      "source": [
        "from tqdm.notebook import tqdm\n",
        "from torchdata.datapipes.iter import IterableWrapper\n",
        "from torchtext.data.functional import to_map_style_dataset\n",
        "from torchtext.data.utils import get_tokenizer\n",
        "from torchtext.vocab import build_vocab_from_iterator\n",
        "from torch.utils.data import DataLoader\n",
        "\n",
        "import matplotlib.pyplot as plt \n",
        "import seaborn as sns\n",
        "import torch.nn as nn\n",
        "import torch\n",
        "\n",
        "device = \"cuda\" if torch.cuda.is_available() else \"cpu\""
      ]
    },
    {
      "cell_type": "code",
      "execution_count": 37,
      "metadata": {
        "id": "XTOR8VWrPCZ0"
      },
      "outputs": [],
      "source": [
        "torch.manual_seed(SEED)\n",
        "torch.backends.cudnn.deterministic = True"
      ]
    },
    {
      "cell_type": "markdown",
      "metadata": {
        "id": "qcYLK4v5yTJz"
      },
      "source": [
        "Создаем словарь на обучающей выборке"
      ]
    },
    {
      "cell_type": "code",
      "execution_count": 38,
      "metadata": {
        "id": "xuOp05PfPG4V"
      },
      "outputs": [],
      "source": [
        "def text_iterator(text):\n",
        "    for row in text:\n",
        "        yield tokenizer.tokenize(row)"
      ]
    },
    {
      "cell_type": "code",
      "execution_count": 39,
      "metadata": {
        "colab": {
          "base_uri": "https://localhost:8080/"
        },
        "id": "z-5cdoDnPIMH",
        "outputId": "f4ac6d9c-c912-442a-bab1-704fedfdb15c"
      },
      "outputs": [
        {
          "name": "stdout",
          "output_type": "stream",
          "text": [
            "18491\n"
          ]
        }
      ],
      "source": [
        "text_vocab = build_vocab_from_iterator(text_iterator(train_sents), \n",
        "                                       specials=[\"<unk>\", \"<pad>\"],\n",
        "                                       min_freq=5)\n",
        "text_vocab.set_default_index(text_vocab[\"<unk>\"])\n",
        "print(len(text_vocab))"
      ]
    },
    {
      "cell_type": "markdown",
      "metadata": {
        "id": "rjsbyuUpyaD_"
      },
      "source": [
        "Определяем функции для предобработки данных и сортировки"
      ]
    },
    {
      "cell_type": "code",
      "execution_count": 40,
      "metadata": {
        "id": "NxK6WTtWPZ6I"
      },
      "outputs": [],
      "source": [
        "def preprocess_pipe(row, tokenizer=tokenizer, vocab=text_vocab):\n",
        "    tokens = vocab(tokenizer.tokenize(row[0]))\n",
        "    return (tokens, *row[1:])\n",
        "\n",
        "def sort_keys(data):\n",
        "    return sorted(data, key=lambda x: len(x[0]))"
      ]
    },
    {
      "cell_type": "markdown",
      "metadata": {
        "id": "s60vmb1JyiAS"
      },
      "source": [
        "Создаем датасет, для этого в начале оборачиваем наши данные в datapipe, в которых выполняем предобработку и разделение выборки на батчи так, чтобы в каждом батче были предложения с практически равной длиной. \n",
        "\n",
        "Далее при создании набора данных нам нужно будет привести каждое предложение из батча к одинаковой длине, заполнив нулями (такая операция также называется padding). Если в батче будут предложения с большой разницей в длине, то придется тратить очень много памяти на приведение их к одинаковой длине. Поэтому пред разбиением на батчи данные предварительно сортируются. "
      ]
    },
    {
      "cell_type": "code",
      "execution_count": 41,
      "metadata": {
        "id": "Xpz6d6HkPXvz"
      },
      "outputs": [],
      "source": [
        "train_dp = IterableWrapper(zip(train_sents, train_labels, train_oids))\n",
        "val_dp = IterableWrapper(zip(val_sents, val_labels, val_oids))\n",
        "all_train_dp = IterableWrapper(zip(all_train_sents, all_train_labels, all_train_oids))\n",
        "\n",
        "train_dp_prep = train_dp.map(preprocess_pipe)\n",
        "val_dp_prep = val_dp.map(preprocess_pipe)\n",
        "all_train_prep = all_train_dp.map(preprocess_pipe)\n",
        "\n",
        "train_dp_bucket = train_dp_prep.bucketbatch(128, sort_key=sort_keys)\n",
        "val_dp_bucket = val_dp_prep.bucketbatch(128, sort_key=sort_keys)\n",
        "all_train_bucket = all_train_prep.bucketbatch(128, sort_key=sort_keys)\n",
        "\n",
        "train_dataset = to_map_style_dataset(train_dp_bucket)\n",
        "val_dataset = to_map_style_dataset(val_dp_bucket)\n",
        "all_train_dataset = to_map_style_dataset(all_train_bucket)"
      ]
    },
    {
      "cell_type": "markdown",
      "metadata": {
        "id": "-25_rNwR0vop"
      },
      "source": [
        "Опредеяем функции для предобработки батчей и функции приведения батчей к одному размеру"
      ]
    },
    {
      "cell_type": "code",
      "execution_count": 85,
      "metadata": {
        "id": "Z49SXkQ9Pvso"
      },
      "outputs": [],
      "source": [
        "def batch_pad(batch, vocab=text_vocab):\n",
        "    pad_batch = []\n",
        "    max_len = max([len(sent) for sent, _, _ in batch])\n",
        "    for sent, label, oid in batch:\n",
        "        sent_pad = [vocab[\"<pad>\"]]*(max_len-len(sent))\n",
        "        pad_batch.append([sent+sent_pad, label, oid])\n",
        "    return pad_batch\n",
        "\n",
        "def batch_preprocess(batch):\n",
        "    sent_list = []\n",
        "    label_list = []\n",
        "    oid_list = []\n",
        "    batch_padded = batch_pad(batch)\n",
        "    for sent, label, oid in batch_padded:\n",
        "        sent_list.append(sent)\n",
        "        label_list.append(label)\n",
        "        oid_list.append(oid)\n",
        "    sent_tensor = torch.tensor(sent_list, dtype=torch.int64) # .permute((1,0)).contiguous()\n",
        "    label_tensor = torch.tensor(label_list, dtype=torch.int64)\n",
        "    oid_tensor = torch.tensor(oid_list, dtype=torch.int64)\n",
        "\n",
        "    return (sent_tensor, label_tensor, oid_tensor)"
      ]
    },
    {
      "cell_type": "markdown",
      "metadata": {
        "id": "x6gzRZYo1H2m"
      },
      "source": [
        "Создаем загрузчики данных, для train выборки также ставим параметр shuffle=True"
      ]
    },
    {
      "cell_type": "code",
      "execution_count": 86,
      "metadata": {
        "id": "B09xlj3oPxxs"
      },
      "outputs": [],
      "source": [
        "train_dataloader = DataLoader(train_dataset, batch_size=None, collate_fn=batch_preprocess, shuffle=False)\n",
        "val_dataloader = DataLoader(val_dataset, batch_size=None, collate_fn=batch_preprocess)\n",
        "all_train_dataloader = DataLoader(all_train_dataset, batch_size=None, collate_fn=batch_preprocess)"
      ]
    },
    {
      "cell_type": "markdown",
      "metadata": {
        "id": "tpWBT0CL1Q5s"
      },
      "source": [
        "Определяем функции для обучения и оценки модели"
      ]
    },
    {
      "cell_type": "code",
      "execution_count": 116,
      "metadata": {
        "id": "PifgB063P0Al"
      },
      "outputs": [],
      "source": [
        "def train_step(model,\n",
        "                dataloader,\n",
        "                criterion,\n",
        "                optimizer):\n",
        "    mean_accuracy = 0.0\n",
        "    mean_loss = 0.0\n",
        "    count_sents = 0\n",
        "\n",
        "    model.train()\n",
        "    for batch in tqdm(dataloader):\n",
        "        sents, labels, _ = batch\n",
        "        sents = sents.to(device)\n",
        "        labels = labels.to(device)\n",
        "\n",
        "        optimizer.zero_grad()\n",
        "        pred = model(sents)\n",
        "\n",
        "        pred_labels = pred.argmax(axis=1)\n",
        "        mean_accuracy += (pred_labels == labels).sum().item()\n",
        "\n",
        "        loss = criterion(pred, labels)\n",
        "        loss.backward()\n",
        "        optimizer.step()\n",
        "        mean_loss += loss.detach()\n",
        "\n",
        "        count_sents += sents.shape[0]\n",
        "    \n",
        "    mean_accuracy /= count_sents\n",
        "    mean_loss /= count_sents\n",
        "\n",
        "    return mean_accuracy, mean_loss\n",
        "\n",
        "def val_step(model,\n",
        "                dataloader,\n",
        "                criterion):\n",
        "    mean_accuracy = 0.0\n",
        "    mean_loss = 0.0\n",
        "    count_sents = 0\n",
        "\n",
        "    model.eval()\n",
        "    for batch in tqdm(dataloader):\n",
        "        sents, labels, _ = batch\n",
        "        sents = sents.to(device)\n",
        "        labels = labels.to(device)\n",
        "\n",
        "        pred = model(sents)\n",
        "\n",
        "        pred_labels = pred.argmax(axis=1)\n",
        "        mean_accuracy += (pred_labels == labels).sum().item()\n",
        "\n",
        "        loss = criterion(pred, labels)\n",
        "        mean_loss += loss.detach()\n",
        "\n",
        "        count_sents += sents.shape[0]\n",
        "    \n",
        "    mean_accuracy /= count_sents\n",
        "    mean_loss /= count_sents\n",
        "    \n",
        "    return mean_accuracy, mean_loss\n",
        "\n",
        "def train(model,\n",
        "          train_dataloader,\n",
        "          criterion,\n",
        "          optimizer,\n",
        "          save_dir,\n",
        "          val_dataloader=None,\n",
        "          scheduler=None,\n",
        "          epochs=10):\n",
        "    \n",
        "    history = {\n",
        "        \"train_loss\":[],\n",
        "        \"train_acc\":[],\n",
        "        \"val_loss\":[],\n",
        "        \"val_acc\":[]\n",
        "    }\n",
        "    best_loss = 999999\n",
        "\n",
        "    for epoch in tqdm(range(epochs)):\n",
        "        train_acc, train_loss = train_step(model, \n",
        "                                        train_dataloader, \n",
        "                                        criterion, \n",
        "                                        optimizer)\n",
        "        \n",
        "        history[\"train_loss\"].append(train_loss.item())\n",
        "        history[\"train_acc\"].append(train_acc)\n",
        "        print(f\"Epoch: {epoch}, Train_loss: {train_loss}, Train_acc: {train_acc}\")\n",
        "\n",
        "        if not val_dataloader is None:\n",
        "            val_acc, val_loss = val_step(model,\n",
        "                                        val_dataloader,\n",
        "                                        criterion)\n",
        "            history[\"val_loss\"].append(val_loss.item())\n",
        "            history[\"val_acc\"].append(val_acc)\n",
        "            print(f\"Epoch: {epoch}, Val_loss: {val_loss}, Val_acc: {val_acc}\")\n",
        "\n",
        "            if best_loss > val_loss.item():\n",
        "                print(\"New best result!\")\n",
        "                best_loss = val_loss.item()\n",
        "                torch.save(model.state_dict(), save_dir)\n",
        "        else:\n",
        "            if best_loss > train_loss.item():\n",
        "                print(\"New best result!\")\n",
        "                best_loss = train_loss.item()\n",
        "                torch.save(model.state_dict(), save_dir)\n",
        "\n",
        "    return history\n",
        "\n",
        "def eval_model(model, dataloader):\n",
        "    pred_labels = []\n",
        "    true_labels = []\n",
        "    \n",
        "    model.eval()\n",
        "    for batch in dataloader:\n",
        "        sents, labels, _ = batch\n",
        "        sents = sents.to(device)\n",
        "\n",
        "        pred = model(sents)\n",
        "\n",
        "        pred_labels.extend(pred.argmax(axis=1).tolist())\n",
        "        true_labels.extend(labels.tolist())\n",
        "    \n",
        "    print_metrics(true_labels, pred_labels)\n",
        "    return pred_labels\n",
        "\n",
        "def eval_by_oids(model, dataloader):\n",
        "    model.eval()\n",
        "    oids_dict = {}\n",
        "    for batch in dataloader: \n",
        "        sents, labels, oids = batch \n",
        "        sents = sents.to(device)\n",
        "        labels = labels.tolist()\n",
        "        oids = oids.tolist()\n",
        "\n",
        "        pred = model(sents).detach().cpu().tolist()\n",
        "        for i, oid in enumerate(oids):\n",
        "            if oid not in oids_dict.keys():\n",
        "                oids_dict[oid] = {\n",
        "                    \"pred\":np.array(pred[i]),\n",
        "                    \"label\":labels[i],\n",
        "                    \"count\":1\n",
        "                }\n",
        "                continue\n",
        "            oids_dict[oid][\"pred\"] += pred[i]\n",
        "            oids_dict[oid][\"count\"] += 1\n",
        "    \n",
        "    metric = 0\n",
        "    for oid in oids_dict.keys():\n",
        "        pred = oids_dict[oid][\"pred\"] / oids_dict[oid][\"count\"]\n",
        "        pred_label = np.argmax(pred)\n",
        "        if pred_label == oids_dict[oid][\"label\"]:\n",
        "            metric += 1\n",
        "        else:\n",
        "            metric -= 1\n",
        "    metric /= len(oids_dict.keys())\n",
        "    return metric\n",
        "\n",
        "def generate_test_answer(model, test_data):\n",
        "    model.eval()\n",
        "    oids_dict = {}\n",
        "    for sent, oid in test_data:\n",
        "        sent_tokens = [text_vocab[token] for token in tokenizer.tokenize(sent)]\n",
        "        sent_tensor = torch.tensor(sent_tokens, dtype=torch.int64).to(device)\n",
        "        sent_tensor = sent_tensor.unsqueeze(1)\n",
        "        pred = model(sent_tensor).cpu().detach().tolist()[0]\n",
        "\n",
        "        if oid not in oids_dict.keys():\n",
        "            oids_dict[oid] = {\"pred\":np.array(pred), \"count\":1}\n",
        "            continue\n",
        "        oids_dict[oid][\"pred\"] += pred\n",
        "        oids_dict[oid][\"count\"] += 1\n",
        "\n",
        "    result = []\n",
        "    for oid in oids_dict.keys():\n",
        "        pred_avg = oids_dict[oid][\"pred\"] / oids_dict[oid][\"count\"] \n",
        "        pred_label = np.argmax(pred_avg)\n",
        "        result.append([oid, idx2class[pred_label]])\n",
        "    return pd.DataFrame(result, columns=[\"oid\", \"category\"])\n",
        "\n",
        "def draw_history(history):\n",
        "    figure = plt.figure(figsize=(10, 10))\n",
        "    gs = figure.add_gridspec(2, 1)\n",
        "\n",
        "    figure.add_subplot(gs[0, 0])\n",
        "    plt.plot(list(range(len(history[\"train_acc\"]))), \n",
        "             history[\"train_acc\"], \n",
        "             label=\"train_acc\")\n",
        "    plt.plot(list(range(len(history[\"val_acc\"]))), \n",
        "             history[\"val_acc\"], \n",
        "             label=\"val_acc\")\n",
        "    plt.legend()\n",
        "\n",
        "    figure.add_subplot(gs[1, 0])\n",
        "    plt.plot(list(range(len(history[\"train_loss\"]))), \n",
        "             history[\"train_loss\"], \n",
        "             label=\"train_loss\")\n",
        "    plt.plot(list(range(len(history[\"val_loss\"]))), \n",
        "             history[\"val_loss\"], \n",
        "             label=\"val_loss\")\n",
        "    plt.legend()"
      ]
    },
    {
      "cell_type": "markdown",
      "metadata": {
        "id": "P1E2d9kBP03j"
      },
      "source": [
        "##### EmbeddingBag"
      ]
    },
    {
      "cell_type": "markdown",
      "metadata": {
        "id": "UWO79-Q91j4M"
      },
      "source": [
        "EmbeddingBagModel - модель, в которой все обученные эмбеддинги слов суммируются и усредняются (тот же самый подход, который был с исопльзованием navec). Для этого в PyTorch есть слой EmbeddingBag, в котором содержаться обучаемые эмбеддинги и который находит усредненную сумму всех эмбеддингов слов в предложении. На выходе этого слоя идет вектор размерности 512, который далее подается в полносвязную сеть с обычными линейными слоями, слоями нормализации, Dropout и функцией активации ReLU."
      ]
    },
    {
      "cell_type": "code",
      "execution_count": 121,
      "metadata": {
        "id": "OE-Bu-LdP3ej"
      },
      "outputs": [],
      "source": [
        "class EmbeddingBagModel(nn.Module):\n",
        "\n",
        "    def __init__(self, input_dim, output_dim):\n",
        "        super().__init__()\n",
        "\n",
        "        self.emb_bag = nn.EmbeddingBag(input_dim, 512)\n",
        "\n",
        "        self.dropout1 = nn.Dropout(0.5)\n",
        "        self.fc1 = nn.Linear(512, 256)\n",
        "        self.bn1 = nn.BatchNorm1d(256)\n",
        "        self.relu1 = nn.ReLU()\n",
        "        self.dropout2 = nn.Dropout(0.5)\n",
        "        self.fc2 = nn.Linear(256, 128)\n",
        "        self.relu2 = nn.ReLU()\n",
        "        self.fc3 = nn.Linear(128, output_dim)\n",
        "    \n",
        "    def forward(self, x_input):\n",
        "        x = self.dropout1(self.emb_bag(x_input))\n",
        "        x = self.dropout2(self.relu1(self.bn1(self.fc1(x))))\n",
        "        x = self.relu2(self.fc2(x))\n",
        "        x = self.fc3(x)\n",
        "\n",
        "        return x"
      ]
    },
    {
      "cell_type": "markdown",
      "metadata": {
        "id": "o5GECWCpDcYW"
      },
      "source": [
        "В качестве оптимизатора был выбран Adam с шагом обучения 0.001, в качестве функции потерь CrossEnthropy. Всего модель имеет 9 211 917 параметров."
      ]
    },
    {
      "cell_type": "code",
      "execution_count": 122,
      "metadata": {
        "colab": {
          "base_uri": "https://localhost:8080/"
        },
        "id": "dilo8IBhP7Rq",
        "outputId": "5e970874-34e5-4939-9dbb-64e07b61a758"
      },
      "outputs": [
        {
          "name": "stdout",
          "output_type": "stream",
          "text": [
            "Params:  9633805\n"
          ]
        }
      ],
      "source": [
        "INPUT_DIM = len(text_vocab)\n",
        "OUTPUT_DIM = 13\n",
        "emb_bag_model = EmbeddingBagModel(INPUT_DIM, OUTPUT_DIM)\n",
        "emb_bag_model.to(device)\n",
        "\n",
        "lr = 0.001\n",
        "criterion = nn.CrossEntropyLoss()\n",
        "optimizer = torch.optim.Adam(emb_bag_model.parameters(), lr)\n",
        "print(\"Params: \", sum([param.numel() for param in emb_bag_model.parameters()]))"
      ]
    },
    {
      "cell_type": "markdown",
      "metadata": {
        "id": "8vR-DZjADrBm"
      },
      "source": [
        "Обучим модель на 20 эпохах"
      ]
    },
    {
      "cell_type": "code",
      "execution_count": null,
      "metadata": {
        "id": "YLCgttzDQBfd"
      },
      "outputs": [],
      "source": [
        "emb_bag_dir = \"./emb_bag.pt\"\n",
        "history = train(emb_bag_model, \n",
        "                train_dataloader=train_dataloader,\n",
        "                val_dataloader=val_dataloader,\n",
        "                criterion=criterion,\n",
        "                optimizer=optimizer,\n",
        "                save_dir=emb_bag_dir,\n",
        "                epochs=20)"
      ]
    },
    {
      "cell_type": "code",
      "execution_count": 124,
      "metadata": {
        "colab": {
          "base_uri": "https://localhost:8080/",
          "height": 592
        },
        "id": "JncwaV9S3-KI",
        "outputId": "8cbb129f-11ae-472e-e8dd-e012de97ca43"
      },
      "outputs": [
        {
          "data": {
            "image/png": "[encoded data removed]",
            "text/plain": [
              "<Figure size 720x720 with 2 Axes>"
            ]
          },
          "metadata": {
            "needs_background": "light"
          },
          "output_type": "display_data"
        }
      ],
      "source": [
        "draw_history(history)"
      ]
    },
    {
      "cell_type": "markdown",
      "metadata": {
        "id": "MszWJwR4EEIj"
      },
      "source": [
        "Загрузим веса модели, на которых было достингуто наименьшее значение функции потерь"
      ]
    },
    {
      "cell_type": "code",
      "execution_count": null,
      "metadata": {
        "id": "IZdYeZgLxLHc"
      },
      "outputs": [],
      "source": [
        "best_model = EmbeddingBagModel(INPUT_DIM, OUTPUT_DIM).to(device)\n",
        "best_model.load_state_dict(torch.load(emb_bag_dir, map_location=torch.device(device)))"
      ]
    },
    {
      "cell_type": "code",
      "execution_count": 126,
      "metadata": {
        "colab": {
          "base_uri": "https://localhost:8080/"
        },
        "id": "-VAqufszTz7l",
        "outputId": "40da9e58-c98d-41ae-af9c-12f2701b7051"
      },
      "outputs": [
        {
          "name": "stdout",
          "output_type": "stream",
          "text": [
            "Accuracy:  0.828516129032258\n",
            "Macro precision:  0.8286332661754379\n",
            "Micro precision:  0.828516129032258\n",
            "Macro recall:  0.8326422430646586\n",
            "Micro recall:  0.828516129032258\n",
            "Macro f1-score:  0.8295079074354413\n",
            "Micro f1-score:  0.828516129032258\n"
          ]
        }
      ],
      "source": [
        "pred_bag = eval_model(best_model, val_dataloader)"
      ]
    },
    {
      "cell_type": "code",
      "execution_count": 127,
      "metadata": {
        "colab": {
          "base_uri": "https://localhost:8080/"
        },
        "id": "vP6JIXzAuOqD",
        "outputId": "d10018c3-9382-492f-a5a6-c5ac44bffb71"
      },
      "outputs": [
        {
          "data": {
            "text/plain": [
              "0.9638709677419355"
            ]
          },
          "execution_count": 127,
          "metadata": {},
          "output_type": "execute_result"
        }
      ],
      "source": [
        "eval_by_oids(best_model, val_dataloader)"
      ]
    },
    {
      "cell_type": "markdown",
      "metadata": {
        "id": "fIeEC7eEEL0C"
      },
      "source": [
        "В целом мы получили результаты, которые намного выше, чем предыдущие методы"
      ]
    },
    {
      "cell_type": "markdown",
      "metadata": {
        "id": "WMZbG49nQGAe"
      },
      "source": [
        "#### RNN (LSTM)"
      ]
    },
    {
      "cell_type": "markdown",
      "metadata": {
        "id": "rjzFl5cEEUmP"
      },
      "source": [
        "Вторая архитектура основана на рекуррентных блоках LSTM. В начале вычисляется эмбеддинг для каждого слова, после они подаются на вход двусторонней LSTM с двумя слоями и Dropout. Выходной вектор подается на линейный слой, с помощью которого прозводится классификация."
      ]
    },
    {
      "cell_type": "code",
      "execution_count": 109,
      "metadata": {
        "id": "kpzsUcPNQEQQ"
      },
      "outputs": [],
      "source": [
        "class RNNModel(nn.Module):\n",
        "    def __init__(self, input_dim, output_dim, bidirectional=True):\n",
        "        super().__init__()\n",
        "        self.bidirectional=True \n",
        "        self.n_layers=2\n",
        "        self.emb = nn.Embedding(input_dim, 512)\n",
        "        self.dropout1 = nn.Dropout(0.5)\n",
        "        self.rnn = nn.LSTM(512, \n",
        "                           128, \n",
        "                           bidirectional=bidirectional, \n",
        "                           num_layers=self.n_layers, \n",
        "                           dropout=0.5,\n",
        "                           batch_first=True)\n",
        "        self.fc1 = nn.Linear(128*self.n_layers*(1 + bidirectional), 128)\n",
        "        self.dropout2 = nn.Dropout(0.5)\n",
        "        self.fc2 = nn.Linear(128, output_dim)\n",
        "\n",
        "    \n",
        "    def forward(self, x_input):\n",
        "        x = self.dropout1(self.emb(x_input))\n",
        "        output, (hidden, cell) = self.rnn(x)\n",
        "        if self.bidirectional == True or self.n_layers > 1:\n",
        "            hidden = hidden.permute((1,0,2)).reshape(x_input.shape[0], -1)\n",
        "\n",
        "        x = self.dropout2(self.fc1(hidden))\n",
        "        x = self.fc2(x)\n",
        "        return x"
      ]
    },
    {
      "cell_type": "markdown",
      "metadata": {
        "id": "s-QGq_hOEs6a"
      },
      "source": [
        "Оптимизатор, функция потерь и шаг обучения выбраны такие же, как и при обучении EmbeddingBagModel. Модель имеет 6 139 025 параметров. "
      ]
    },
    {
      "cell_type": "code",
      "execution_count": 110,
      "metadata": {
        "colab": {
          "base_uri": "https://localhost:8080/"
        },
        "id": "hSpbGI8GQI05",
        "outputId": "87151355-8386-42db-d3bd-b839f25b91d8"
      },
      "outputs": [
        {
          "name": "stdout",
          "output_type": "stream",
          "text": [
            "Params:  10587405\n"
          ]
        }
      ],
      "source": [
        "INPUT_DIM = len(text_vocab)\n",
        "OUTPUT_DIM = 13\n",
        "\n",
        "rnn_model = RNNModel(INPUT_DIM, OUTPUT_DIM)\n",
        "rnn_model.to(device)\n",
        "\n",
        "lr = 0.001\n",
        "criterion = nn.CrossEntropyLoss()\n",
        "optimizer = torch.optim.Adam(rnn_model.parameters(), lr)\n",
        "print(\"Params: \", sum([param.numel() for param in rnn_model.parameters()]))"
      ]
    },
    {
      "cell_type": "markdown",
      "metadata": {
        "id": "j8yT8ifwE4Sf"
      },
      "source": [
        "Обучим модель на 20 эпохах"
      ]
    },
    {
      "cell_type": "code",
      "execution_count": null,
      "metadata": {
        "id": "_55m6SApQM3k"
      },
      "outputs": [],
      "source": [
        "rnn_dir = \"./rnn.pt\"\n",
        "history = train(rnn_model,\n",
        "                train_dataloader=train_dataloader,\n",
        "                val_dataloader=val_dataloader,\n",
        "                criterion=criterion,\n",
        "                optimizer=optimizer,\n",
        "                save_dir=rnn_dir,\n",
        "                epochs=20)"
      ]
    },
    {
      "cell_type": "code",
      "execution_count": 112,
      "metadata": {
        "colab": {
          "base_uri": "https://localhost:8080/",
          "height": 592
        },
        "id": "LFRLeUjO5gRP",
        "outputId": "072f79f8-994e-4aba-ae24-8eb49c20586f"
      },
      "outputs": [
        {
          "data": {
            "image/png": "[encoded data removed]",
            "text/plain": [
              "<Figure size 720x720 with 2 Axes>"
            ]
          },
          "metadata": {
            "needs_background": "light"
          },
          "output_type": "display_data"
        }
      ],
      "source": [
        "draw_history(history)"
      ]
    },
    {
      "cell_type": "markdown",
      "metadata": {
        "id": "CBERb9Z_FRm7"
      },
      "source": [
        "Загрузим веса модели, на которых было достигнуто наименьшее значение функции потерь и посчитаем метрики на val наборе"
      ]
    },
    {
      "cell_type": "code",
      "execution_count": 113,
      "metadata": {
        "colab": {
          "base_uri": "https://localhost:8080/"
        },
        "id": "AscNf2PYVAYk",
        "outputId": "59d122bf-dd6e-4913-c8e3-b9926834014b"
      },
      "outputs": [
        {
          "name": "stdout",
          "output_type": "stream",
          "text": [
            "Accuracy:  0.8099354838709677\n",
            "Macro precision:  0.8146449382498488\n",
            "Micro precision:  0.8099354838709677\n",
            "Macro recall:  0.8145763624499287\n",
            "Micro recall:  0.8099354838709677\n",
            "Macro f1-score:  0.8122722159551092\n",
            "Micro f1-score:  0.8099354838709677\n"
          ]
        }
      ],
      "source": [
        "best_model = RNNModel(INPUT_DIM, OUTPUT_DIM).to(device)\n",
        "best_model.load_state_dict(torch.load(rnn_dir, map_location=torch.device(device)))\n",
        "pred_rnn = eval_model(best_model, val_dataloader)"
      ]
    },
    {
      "cell_type": "code",
      "execution_count": 117,
      "metadata": {
        "colab": {
          "base_uri": "https://localhost:8080/"
        },
        "id": "YvfJiEZryX3m",
        "outputId": "c99ecb56-7e1b-408f-a411-bf3e1a9547f2"
      },
      "outputs": [
        {
          "data": {
            "text/plain": [
              "0.9458064516129032"
            ]
          },
          "execution_count": 117,
          "metadata": {},
          "output_type": "execute_result"
        }
      ],
      "source": [
        "eval_by_oids(best_model, val_dataloader)"
      ]
    },
    {
      "cell_type": "markdown",
      "metadata": {
        "id": "4IsKA1K8FcIA"
      },
      "source": [
        "В результате мы получили значения, меньшие чем на модели EmbeddingBag. "
      ]
    }
  ],
  "metadata": {
    "accelerator": "GPU",
    "colab": {
      "provenance": []
    },
    "gpuClass": "standard",
    "kernelspec": {
      "display_name": "Python 3",
      "name": "python3"
    },
    "language_info": {
      "name": "python"
    }
  },
  "nbformat": 4,
  "nbformat_minor": 0
}
